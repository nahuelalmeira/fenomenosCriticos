{
 "cells": [
  {
   "cell_type": "code",
   "execution_count": null,
   "metadata": {},
   "outputs": [
    {
     "name": "stdout",
     "output_type": "stream",
     "text": [
      "128 1000000\n"
     ]
    }
   ],
   "source": [
    "import os\n",
    "import subprocess\n",
    "\n",
    "overwrite = False\n",
    "\n",
    "executable = '../c/ising'\n",
    "output_dir = '../../data/'\n",
    "\n",
    "Ti = '1.9092'\n",
    "Tf = '2.8092'\n",
    "delta_T = '0.001'\n",
    "n_samples = '1000000'\n",
    "transit   = '1000000'\n",
    "Ns        = '1000000'\n",
    "L_values = [128]#, 64, 128, 200]\n",
    "\n",
    "for L in L_values:\n",
    "\n",
    "    print(L, transit)\n",
    "\n",
    "    N = str(transit)\n",
    "    L = str(L)\n",
    "\n",
    "    output_file_name = \"L{}_Ti{}_Tf{}_dT{}_transit{}_Ns{}_nsamples{}.dat\".format(L, Ti, Tf, delta_T, N, Ns,\n",
    "                                                                                n_samples)\n",
    "    full_output_file_name = os.path.join(output_dir, output_file_name)\n",
    "\n",
    "    if os.path.isfile(full_output_file_name) and not overwrite:\n",
    "        continue\n",
    "\n",
    "    subprocess.run([executable, full_output_file_name, L, N, Ns, Ti, Tf, delta_T, n_samples])"
   ]
  },
  {
   "cell_type": "code",
   "execution_count": null,
   "metadata": {},
   "outputs": [],
   "source": []
  }
 ],
 "metadata": {
  "kernelspec": {
   "display_name": "Python [conda env:networks3] *",
   "language": "python",
   "name": "conda-env-networks3-py"
  },
  "language_info": {
   "codemirror_mode": {
    "name": "ipython",
    "version": 3
   },
   "file_extension": ".py",
   "mimetype": "text/x-python",
   "name": "python",
   "nbconvert_exporter": "python",
   "pygments_lexer": "ipython3",
   "version": "3.7.3"
  }
 },
 "nbformat": 4,
 "nbformat_minor": 2
}

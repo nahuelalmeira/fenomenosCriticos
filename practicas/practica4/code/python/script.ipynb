{
 "cells": [
  {
   "cell_type": "code",
   "execution_count": null,
   "metadata": {},
   "outputs": [
    {
     "name": "stdout",
     "output_type": "stream",
     "text": [
      "16 10000\n",
      "32 10000\n",
      "64 10000\n",
      "128 10000\n",
      "200 10000\n"
     ]
    }
   ],
   "source": [
    "import os\n",
    "import subprocess\n",
    "\n",
    "overwrite = True\n",
    "\n",
    "executable = '../c/practica3_1b'\n",
    "output_dir = '../../data/'\n",
    "\n",
    "Ns = '10000'\n",
    "Ti = '0.00'\n",
    "Tf = '5.00'\n",
    "delta_T = '0.05'\n",
    "n_samples = '1000'\n",
    "\n",
    "L_values = [16, 32, 64, 128, 200]\n",
    "transit_values = [10000]\n",
    "for L in L_values:\n",
    "    for transit in transit_values:\n",
    "        print(L, transit)\n",
    "\n",
    "        N = str(transit)\n",
    "        L = str(L)\n",
    "\n",
    "        output_file_name = \"L{}_Ti{}_Tf{}_dT{}_transit{}_Ns{}_nsamples{}.dat\".format(L, Ti, Tf, delta_T, N, Ns,\n",
    "                                                                                    n_samples)\n",
    "        full_output_file_name = os.path.join(output_dir, output_file_name)\n",
    "        \n",
    "        if os.path.isfile(full_output_file_name) and not overwrite:\n",
    "            continue\n",
    "            \n",
    "        subprocess.run([executable, full_output_file_name, L, N, Ns, Ti, Tf, delta_T, n_samples])"
   ]
  },
  {
   "cell_type": "code",
   "execution_count": null,
   "metadata": {},
   "outputs": [],
   "source": []
  }
 ],
 "metadata": {
  "kernelspec": {
   "display_name": "Python [conda env:networks3]",
   "language": "python",
   "name": "conda-env-networks3-py"
  },
  "language_info": {
   "codemirror_mode": {
    "name": "ipython",
    "version": 3
   },
   "file_extension": ".py",
   "mimetype": "text/x-python",
   "name": "python",
   "nbconvert_exporter": "python",
   "pygments_lexer": "ipython3",
   "version": "3.6.6"
  }
 },
 "nbformat": 4,
 "nbformat_minor": 2
}

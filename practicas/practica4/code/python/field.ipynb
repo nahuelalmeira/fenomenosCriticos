{
 "cells": [
  {
   "cell_type": "code",
   "execution_count": 5,
   "metadata": {},
   "outputs": [
    {
     "name": "stdout",
     "output_type": "stream",
     "text": [
      "16\n",
      "2.50\n",
      "2.60\n",
      "2.80\n",
      "32\n",
      "2.50\n",
      "2.60\n",
      "2.80\n"
     ]
    }
   ],
   "source": [
    "import os\n",
    "import subprocess\n",
    "\n",
    "overwrite = False\n",
    "\n",
    "executable = '../c/field'\n",
    "output_dir = '../../data/'\n",
    "\n",
    "Bi = '1.00'\n",
    "#T = '2.90'\n",
    "dB = '0.01'\n",
    "n_samples = '10000'\n",
    "transit   = '10000'\n",
    "Ns        = '10000'\n",
    "L_values = [16, 32]\n",
    "\n",
    "for L in L_values:\n",
    "    print(L)\n",
    "\n",
    "    for T in ['2.50', '2.60', '2.80']:\n",
    "        print(T)\n",
    "\n",
    "        N = str(transit)\n",
    "        L = str(L)\n",
    "\n",
    "        output_file_name = \"L{}_T{}_Bi{}_dB{}_transit{}_Ns{}_nsamples{}.dat\".format(\n",
    "            L, T, Bi, dB, N, Ns, n_samples\n",
    "        )\n",
    "\n",
    "        full_output_file_name = os.path.join(output_dir, output_file_name)\n",
    "\n",
    "        if os.path.isfile(full_output_file_name) and not overwrite:\n",
    "            continue\n",
    "\n",
    "        subprocess.run([executable, full_output_file_name, L, N, Ns, T, Bi, dB, n_samples])"
   ]
  },
  {
   "cell_type": "code",
   "execution_count": null,
   "metadata": {},
   "outputs": [],
   "source": []
  }
 ],
 "metadata": {
  "kernelspec": {
   "display_name": "Python [conda env:networks3] *",
   "language": "python",
   "name": "conda-env-networks3-py"
  },
  "language_info": {
   "codemirror_mode": {
    "name": "ipython",
    "version": 3
   },
   "file_extension": ".py",
   "mimetype": "text/x-python",
   "name": "python",
   "nbconvert_exporter": "python",
   "pygments_lexer": "ipython3",
   "version": "3.7.3"
  }
 },
 "nbformat": 4,
 "nbformat_minor": 2
}

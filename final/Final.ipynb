{
 "cells": [
  {
   "cell_type": "code",
   "execution_count": 33,
   "metadata": {},
   "outputs": [],
   "source": [
    "import numpy as np\n",
    "import matplotlib.pyplot as plt\n",
    "from mpl_settings_v3 import *"
   ]
  },
  {
   "cell_type": "code",
   "execution_count": 86,
   "metadata": {},
   "outputs": [
    {
     "name": "stdout",
     "output_type": "stream",
     "text": [
      "0.0\n",
      "0.0\n",
      "0.5714285714285716\n",
      "0.0\n",
      "-0.17936840803748244\n",
      "-2.4491417055294562e-05\n",
      "0.0\n",
      "23.0807050911305\n",
      "26.173107393296018\n"
     ]
    }
   ],
   "source": [
    "def a2(b,J):\n",
    "    return 4*(1-b)\n",
    "\n",
    "def a4(b,J):\n",
    "    return 4 * (3*J-4*J*b+b**3/3)\n",
    "\n",
    "def a6(b, J):\n",
    "    return 6 * (-2J**2 * b + 4*J*b**3/3 - 4*b**5/45)\n",
    "\n",
    "print(np.nanmax(a2(beta_values, X1).imag))\n",
    "print(np.nanmin(a2(beta_values, X1).real))\n",
    "print(np.nanmax(a2(beta_values, X1).real))\n",
    "\n",
    "print(np.nanmax(a4(beta_values, X1).imag))\n",
    "print(np.nanmin(a4(beta_values, X1).real))\n",
    "print(np.nanmax(a4(beta_values, X1).real))\n",
    "\n",
    "print(np.nanmax(a6(beta_values, X1).imag))\n",
    "print(np.nanmin(a6(beta_values, X1).real))\n",
    "print(np.nanmax(a6(beta_values, X1).real))"
   ]
  },
  {
   "cell_type": "code",
   "execution_count": 97,
   "metadata": {},
   "outputs": [
    {
     "name": "stdout",
     "output_type": "stream",
     "text": [
      "0.44999993229307417\n",
      "0.872983346207417\n"
     ]
    },
    {
     "data": {
      "image/png": "[encoded data removed]",
      "text/plain": [
       "<Figure size 720x432 with 1 Axes>"
      ]
     },
     "metadata": {
      "needs_background": "light"
     },
     "output_type": "display_data"
    }
   ],
   "source": [
    "def ineqJ(b):\n",
    "    return b**3/(3*(4*b-3))\n",
    "\n",
    "#def f(T):\n",
    "#    return (-16*T**3 + 5*T**4 + np.sqrt(6/5) * np.sqrt(192*T**5 - 88*T**6 + 6*T**7 + T**8))/(48*(144 - 100*T + 17*T**2))\n",
    "def f(T):\n",
    "    return (-8*T**3 + 3*T**4 + 2*np.sqrt(3/5)*np.sqrt(-96*T**5 + 52*T**6 - 7*T**7))/(48*(144 - 92*T + 15*T**2))\n",
    "\n",
    "def g(b):\n",
    "    J =  ( 5*b**3 * (-2 + 3*b) + np.sqrt(15)* np.sqrt(-(b-1)*b**5 * (7*b-6)) )/(15*(9 + b*(15*b-23)) )\n",
    "    if J <= ineqJ(b) or b < np.sqrt(15)-3 or J > 0.45:\n",
    "        return np.nan\n",
    "    return J\n",
    "\n",
    "#def g(b):\n",
    "#    J = (3*b-2)*b**3/(27 - 69*b + 45*b**2) + np.sqrt(((1-b)*(7*b-6)*b**5)/(9 + b*(15*b-23)**2))/np.sqrt(15)\n",
    "#    return J\n",
    "#Y1 = np.linspace(3.5, 4, 10000)\n",
    "#X1 = f(Y1)\n",
    "\n",
    "beta_values = np.linspace(np.sqrt(15)-3, 1, 10000)\n",
    "#beta_values = np.linspace(6/7, 1, 10000)\n",
    "Y1 = 4/beta_values\n",
    "\n",
    "X1 = np.array([g(b) for b in beta_values])\n",
    "print(np.nanmax(X1))\n",
    "print(4/np.nanmax(Y1))\n",
    "\n",
    "X2 = np.linspace(0, 1/3, 1000)\n",
    "Y2 = 4*np.ones(1000)\n",
    "\n",
    "\n",
    "J_values = ineqJ(beta_values)\n",
    "\n",
    "\n",
    "fig, ax = plt.subplots(figsize=(10,6))\n",
    "\n",
    "ax.set_xlabel(r'$J_4/J_2$')\n",
    "ax.set_ylabel(r'$k_B T/J_2$')\n",
    "ax.set_ylim(2.9, 5.1)\n",
    "ax.plot(X2, Y2, '-', color='k')\n",
    "ax.plot(X1, Y1, '--', color='k')\n",
    "#ax.plot(J_values, Y1)\n",
    "ax.scatter(1/3, 4, marker='o', s=80, color='k')\n",
    "ax.text(0.05, 4.3, 'Fase desordenada\\n' + r'$(\\eta=0)$', fontsize=34)\n",
    "ax.text(0.05, 3.2, 'Fase ordenada\\n' + r'$(\\eta\\neq0)$', fontsize=34)\n",
    "\n",
    "plt.savefig('phase_diagram.png')\n",
    "plt.show()"
   ]
  },
  {
   "cell_type": "code",
   "execution_count": 91,
   "metadata": {},
   "outputs": [
    {
     "data": {
      "text/plain": [
       "0.8571428571428571"
      ]
     },
     "execution_count": 91,
     "metadata": {},
     "output_type": "execute_result"
    }
   ],
   "source": [
    "6/7"
   ]
  },
  {
   "cell_type": "code",
   "execution_count": null,
   "metadata": {},
   "outputs": [],
   "source": []
  }
 ],
 "metadata": {
  "kernelspec": {
   "display_name": "Python [conda env:networks3] *",
   "language": "python",
   "name": "conda-env-networks3-py"
  },
  "language_info": {
   "codemirror_mode": {
    "name": "ipython",
    "version": 3
   },
   "file_extension": ".py",
   "mimetype": "text/x-python",
   "name": "python",
   "nbconvert_exporter": "python",
   "pygments_lexer": "ipython3",
   "version": "3.7.3"
  }
 },
 "nbformat": 4,
 "nbformat_minor": 2
}
